{
 "cells": [
  {
   "cell_type": "code",
   "execution_count": 6,
   "id": "74d7af61-3036-4fc3-9125-6f029373e22c",
   "metadata": {},
   "outputs": [],
   "source": [
    "import pandas as pd"
   ]
  },
  {
   "cell_type": "code",
   "execution_count": 7,
   "id": "83c61435-9122-43a6-83a2-4a702b29876a",
   "metadata": {},
   "outputs": [
    {
     "data": {
      "text/plain": [
       "['.bashrc',\n",
       " '.bash_logout',\n",
       " '.profile',\n",
       " '.cache',\n",
       " '.jupyter',\n",
       " '.local',\n",
       " '.ipynb_checkpoints',\n",
       " '.ipython',\n",
       " '.config',\n",
       " '.conda',\n",
       " '.wget-hsts',\n",
       " '.npm',\n",
       " 'work']"
      ]
     },
     "execution_count": 7,
     "metadata": {},
     "output_type": "execute_result"
    }
   ],
   "source": [
    "import os\n",
    "\n",
    "os.listdir()"
   ]
  },
  {
   "cell_type": "code",
   "execution_count": null,
   "id": "295e0eb9-5d9e-488e-84b4-2664c7a21173",
   "metadata": {},
   "outputs": [],
   "source": []
  }
 ],
 "metadata": {
  "kernelspec": {
   "display_name": "Python 3 (ipykernel)",
   "language": "python",
   "name": "python3"
  },
  "language_info": {
   "codemirror_mode": {
    "name": "ipython",
    "version": 3
   },
   "file_extension": ".py",
   "mimetype": "text/x-python",
   "name": "python",
   "nbconvert_exporter": "python",
   "pygments_lexer": "ipython3",
   "version": "3.10.6"
  }
 },
 "nbformat": 4,
 "nbformat_minor": 5
}
