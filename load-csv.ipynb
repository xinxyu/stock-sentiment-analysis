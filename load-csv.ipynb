{
 "cells": [
  {
   "cell_type": "code",
   "execution_count": 57,
   "id": "74d7af61-3036-4fc3-9125-6f029373e22c",
   "metadata": {},
   "outputs": [],
   "source": [
    "import pandas as pd\n",
    "import os\n",
    "import glob"
   ]
  },
  {
   "cell_type": "code",
   "execution_count": 58,
   "id": "83c61435-9122-43a6-83a2-4a702b29876a",
   "metadata": {},
   "outputs": [
    {
     "name": "stdout",
     "output_type": "stream",
     "text": [
      "/home/jovyan/work/stock-sentiment-analysis/data/us_equities_news_dataset.csv\n"
     ]
    }
   ],
   "source": [
    "pwd = os.getcwd()\n",
    "workspaceDirPath = pwd + '/work/stock-sentiment-analysis'\n",
    "dataFilePath = workspaceDirPath + '/data/us_equities_news_dataset.csv'\n",
    "print(dataFilePath)"
   ]
  },
  {
   "cell_type": "code",
   "execution_count": 59,
   "id": "295e0eb9-5d9e-488e-84b4-2664c7a21173",
   "metadata": {},
   "outputs": [],
   "source": [
    "data = pd.read_csv(dataFilePath)"
   ]
  },
  {
   "cell_type": "code",
   "execution_count": 61,
   "id": "51619b1b-1b1b-43c9-b5cc-2cf96d307efd",
   "metadata": {},
   "outputs": [
    {
     "name": "stdout",
     "output_type": "stream",
     "text": [
      "<class 'pandas.core.frame.DataFrame'>\n",
      "RangeIndex: 221513 entries, 0 to 221512\n",
      "Data columns (total 9 columns):\n",
      " #   Column        Non-Null Count   Dtype \n",
      "---  ------        --------------   ----- \n",
      " 0   id            221513 non-null  int64 \n",
      " 1   ticker        221513 non-null  object\n",
      " 2   title         221513 non-null  object\n",
      " 3   category      221513 non-null  object\n",
      " 4   content       221505 non-null  object\n",
      " 5   release_date  221513 non-null  object\n",
      " 6   provider      221513 non-null  object\n",
      " 7   url           221513 non-null  object\n",
      " 8   article_id    221513 non-null  int64 \n",
      "dtypes: int64(2), object(7)\n",
      "memory usage: 15.2+ MB\n"
     ]
    }
   ],
   "source": [
    "data.info()"
   ]
  },
  {
   "cell_type": "code",
   "execution_count": 62,
   "id": "bdb117f4-8f0d-428c-b114-ee89614fc1b5",
   "metadata": {},
   "outputs": [
    {
     "data": {
      "text/plain": [
       "802"
      ]
     },
     "execution_count": 62,
     "metadata": {},
     "output_type": "execute_result"
    }
   ],
   "source": [
    "data['ticker'].nunique()"
   ]
  },
  {
   "cell_type": "code",
   "execution_count": null,
   "id": "64a1371c-7a68-4b3b-a9ed-ff26dccbb46a",
   "metadata": {},
   "outputs": [],
   "source": []
  }
 ],
 "metadata": {
  "kernelspec": {
   "display_name": "Python 3 (ipykernel)",
   "language": "python",
   "name": "python3"
  },
  "language_info": {
   "codemirror_mode": {
    "name": "ipython",
    "version": 3
   },
   "file_extension": ".py",
   "mimetype": "text/x-python",
   "name": "python",
   "nbconvert_exporter": "python",
   "pygments_lexer": "ipython3",
   "version": "3.10.6"
  }
 },
 "nbformat": 4,
 "nbformat_minor": 5
}
